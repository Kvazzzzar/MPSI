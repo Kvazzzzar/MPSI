{
  "nbformat": 4,
  "nbformat_minor": 0,
  "metadata": {
    "colab": {
      "provenance": [],
      "authorship_tag": "ABX9TyO0pXJS45pCsmrzfeCHCyg9",
      "include_colab_link": true
    },
    "kernelspec": {
      "name": "python3",
      "display_name": "Python 3"
    },
    "language_info": {
      "name": "python"
    }
  },
  "cells": [
    {
      "cell_type": "markdown",
      "metadata": {
        "id": "view-in-github",
        "colab_type": "text"
      },
      "source": [
        "<a href=\"https://colab.research.google.com/github/Kvazzzzar/MPSI/blob/main/MPSI_1.ipynb\" target=\"_parent\"><img src=\"https://colab.research.google.com/assets/colab-badge.svg\" alt=\"Open In Colab\"/></a>"
      ]
    },
    {
      "cell_type": "code",
      "source": [
        "!pip install pymorphy2\n",
        "!pip install natasha\n",
        "!pip install nltk"
      ],
      "metadata": {
        "colab": {
          "base_uri": "https://localhost:8080/"
        },
        "id": "w697RleKxXso",
        "outputId": "a9b05b79-2074-4546-fa82-f0cba7da908e"
      },
      "execution_count": 1,
      "outputs": [
        {
          "output_type": "stream",
          "name": "stdout",
          "text": [
            "Requirement already satisfied: pymorphy2 in /usr/local/lib/python3.11/dist-packages (0.9.1)\n",
            "Requirement already satisfied: dawg-python>=0.7.1 in /usr/local/lib/python3.11/dist-packages (from pymorphy2) (0.7.2)\n",
            "Requirement already satisfied: pymorphy2-dicts-ru<3.0,>=2.4 in /usr/local/lib/python3.11/dist-packages (from pymorphy2) (2.4.417127.4579844)\n",
            "Requirement already satisfied: docopt>=0.6 in /usr/local/lib/python3.11/dist-packages (from pymorphy2) (0.6.2)\n",
            "Requirement already satisfied: natasha in /usr/local/lib/python3.11/dist-packages (1.6.0)\n",
            "Requirement already satisfied: pymorphy2 in /usr/local/lib/python3.11/dist-packages (from natasha) (0.9.1)\n",
            "Requirement already satisfied: razdel>=0.5.0 in /usr/local/lib/python3.11/dist-packages (from natasha) (0.5.0)\n",
            "Requirement already satisfied: navec>=0.9.0 in /usr/local/lib/python3.11/dist-packages (from natasha) (0.10.0)\n",
            "Requirement already satisfied: slovnet>=0.6.0 in /usr/local/lib/python3.11/dist-packages (from natasha) (0.6.0)\n",
            "Requirement already satisfied: yargy>=0.16.0 in /usr/local/lib/python3.11/dist-packages (from natasha) (0.16.0)\n",
            "Requirement already satisfied: ipymarkup>=0.8.0 in /usr/local/lib/python3.11/dist-packages (from natasha) (0.9.0)\n",
            "Requirement already satisfied: intervaltree>=3 in /usr/local/lib/python3.11/dist-packages (from ipymarkup>=0.8.0->natasha) (3.1.0)\n",
            "Requirement already satisfied: numpy in /usr/local/lib/python3.11/dist-packages (from navec>=0.9.0->natasha) (1.26.4)\n",
            "Requirement already satisfied: dawg-python>=0.7.1 in /usr/local/lib/python3.11/dist-packages (from pymorphy2->natasha) (0.7.2)\n",
            "Requirement already satisfied: pymorphy2-dicts-ru<3.0,>=2.4 in /usr/local/lib/python3.11/dist-packages (from pymorphy2->natasha) (2.4.417127.4579844)\n",
            "Requirement already satisfied: docopt>=0.6 in /usr/local/lib/python3.11/dist-packages (from pymorphy2->natasha) (0.6.2)\n",
            "Requirement already satisfied: sortedcontainers<3.0,>=2.0 in /usr/local/lib/python3.11/dist-packages (from intervaltree>=3->ipymarkup>=0.8.0->natasha) (2.4.0)\n",
            "Requirement already satisfied: nltk in /usr/local/lib/python3.11/dist-packages (3.9.1)\n",
            "Requirement already satisfied: click in /usr/local/lib/python3.11/dist-packages (from nltk) (8.1.8)\n",
            "Requirement already satisfied: joblib in /usr/local/lib/python3.11/dist-packages (from nltk) (1.4.2)\n",
            "Requirement already satisfied: regex>=2021.8.3 in /usr/local/lib/python3.11/dist-packages (from nltk) (2024.11.6)\n",
            "Requirement already satisfied: tqdm in /usr/local/lib/python3.11/dist-packages (from nltk) (4.67.1)\n"
          ]
        }
      ]
    },
    {
      "cell_type": "code",
      "execution_count": 4,
      "metadata": {
        "colab": {
          "base_uri": "https://localhost:8080/"
        },
        "id": "kIXl_ts_vhni",
        "outputId": "a6d52ee4-2f33-4e9f-e4d8-ca4117360f86"
      },
      "outputs": [
        {
          "output_type": "stream",
          "name": "stderr",
          "text": [
            "[nltk_data] Downloading package punkt to /root/nltk_data...\n",
            "[nltk_data]   Package punkt is already up-to-date!\n"
          ]
        },
        {
          "output_type": "stream",
          "name": "stdout",
          "text": [
            "Лемматизация: ['пример', 'большой', 'текст', 'let', 's']\n",
            "Стемминг: ['пример', 'больш', 'текст', 'Let', 's']\n",
            "Токенизация: ['Let', 's', 'test']\n",
            "Векторизация: [76, 101, 116, 115, 116]\n"
          ]
        }
      ],
      "source": [
        "import nltk\n",
        "import pymorphy2\n",
        "import re\n",
        "from nltk.stem import SnowballStemmer\n",
        "from nltk.tokenize import RegexpTokenizer\n",
        "\n",
        "# Инициализация инструментов\n",
        "nltk.download('punkt')\n",
        "morph = pymorphy2.MorphAnalyzer()\n",
        "stemmer = SnowballStemmer(\"russian\")\n",
        "\n",
        "# Функция для лемматизации текста\n",
        "def lemmatize(text: str) -> list[str]:\n",
        "    words = re.findall(r'\\w+', text)  # Убираем пунктуацию\n",
        "    return [morph.parse(word)[0].normal_form for word in words]\n",
        "\n",
        "# Функция для стемминга текста\n",
        "def stemming(text: str) -> list[str]:\n",
        "    tokenizer = RegexpTokenizer(r'\\w+')  # Создаем токенизатор для слов (буквы и цифры)\n",
        "    words = tokenizer.tokenize(text)  # Разбиваем на слова\n",
        "    return [stemmer.stem(word) for word in words]\n",
        "\n",
        "# Функция для токенизации ASCII-символов\n",
        "def tokenize(text: str) -> list[str]:\n",
        "    tokenizer = RegexpTokenizer(r'[A-Za-z0-9]+')  # Только ASCII-символы (буквы и цифры)\n",
        "    return tokenizer.tokenize(text)\n",
        "\n",
        "# Функция для векторизации ASCII-символов\n",
        "def vectorize(tokens: list[str]) -> list[int]:\n",
        "    return [ord(char) for char in ''.join(tokens)]  # Векторизация по каждому символу\n",
        "\n",
        "# Пример использования\n",
        "text = \"Пример большого текста. Let's test!\"\n",
        "lemmatized_text = lemmatize(text)\n",
        "stemmed_text = stemming(text)\n",
        "tokenized_text = tokenize(text)\n",
        "vectorized_text = vectorize(tokenized_text)\n",
        "\n",
        "print(\"Лемматизация:\", lemmatized_text[:5])\n",
        "print(\"Стемминг:\", stemmed_text[:5])\n",
        "print(\"Токенизация:\", tokenized_text[:5])\n",
        "print(\"Векторизация:\", vectorized_text[:5])\n"
      ]
    }
  ]
}