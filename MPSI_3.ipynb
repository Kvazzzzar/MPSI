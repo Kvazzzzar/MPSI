{
  "nbformat": 4,
  "nbformat_minor": 0,
  "metadata": {
    "colab": {
      "provenance": [],
      "authorship_tag": "ABX9TyO7HZw0/Y1EmRvEtW/yP8sw",
      "include_colab_link": true
    },
    "kernelspec": {
      "name": "python3",
      "display_name": "Python 3"
    },
    "language_info": {
      "name": "python"
    }
  },
  "cells": [
    {
      "cell_type": "markdown",
      "metadata": {
        "id": "view-in-github",
        "colab_type": "text"
      },
      "source": [
        "<a href=\"https://colab.research.google.com/github/Kvazzzzar/MPSI/blob/main/MPSI_3.ipynb\" target=\"_parent\"><img src=\"https://colab.research.google.com/assets/colab-badge.svg\" alt=\"Open In Colab\"/></a>"
      ]
    },
    {
      "cell_type": "code",
      "execution_count": 1,
      "metadata": {
        "id": "dmKnnxnd6eH3"
      },
      "outputs": [],
      "source": [
        "import numpy as np\n",
        "\n",
        "class NeuralNetwork:\n",
        "    \"\"\"\n",
        "    Простая нейронная сеть с одним скрытым слоем\n",
        "    Реализованы:\n",
        "    - Инициализация с заданным количеством нейронов в скрытом слое\n",
        "    - Прямое распространение (forward pass)\n",
        "    - Обратное распространение ошибки (backpropagation)\n",
        "    - Обучение на данных\n",
        "    \"\"\"\n",
        "\n",
        "    def __init__(self, input_size, hidden_size, output_size):\n",
        "        \"\"\"Инициализация весов и смещений\"\"\"\n",
        "        self.W1 = np.random.randn(input_size, hidden_size) * 0.01\n",
        "        self.b1 = np.zeros((1, hidden_size))\n",
        "        self.W2 = np.random.randn(hidden_size, output_size) * 0.01\n",
        "        self.b2 = np.zeros((1, output_size))\n",
        "\n",
        "    def sigmoid(self, x):\n",
        "        \"\"\"Функция активации сигмоида\"\"\"\n",
        "        return 1 / (1 + np.exp(-x))\n",
        "\n",
        "    def sigmoid_derivative(self, x):\n",
        "        \"\"\"Производная сигмоиды\"\"\"\n",
        "        return x * (1 - x)\n",
        "\n",
        "    def forward(self, X):\n",
        "        \"\"\"Прямое распространение\"\"\"\n",
        "        self.z1 = np.dot(X, self.W1) + self.b1\n",
        "        self.a1 = self.sigmoid(self.z1)\n",
        "        self.z2 = np.dot(self.a1, self.W2) + self.b2\n",
        "        self.a2 = self.sigmoid(self.z2)\n",
        "        return self.a2\n",
        "\n",
        "    def backward(self, X, y, output, learning_rate):\n",
        "        \"\"\"Обратное распространение ошибки и обновление весов\"\"\"\n",
        "        m = X.shape[0]\n",
        "\n",
        "        # Ошибка на выходном слое\n",
        "        self.a2_error = y - output\n",
        "        self.a2_delta = self.a2_error * self.sigmoid_derivative(output)\n",
        "\n",
        "        # Ошибка на скрытом слое\n",
        "        self.a1_error = self.a2_delta.dot(self.W2.T)\n",
        "        self.a1_delta = self.a1_error * self.sigmoid_derivative(self.a1)\n",
        "\n",
        "        # Обновление весов и смещений\n",
        "        self.W2 += self.a1.T.dot(self.a2_delta) * learning_rate\n",
        "        self.b2 += np.sum(self.a2_delta, axis=0, keepdims=True) * learning_rate\n",
        "        self.W1 += X.T.dot(self.a1_delta) * learning_rate\n",
        "        self.b1 += np.sum(self.a1_delta, axis=0, keepdims=True) * learning_rate\n",
        "\n",
        "    def train(self, X, y, epochs=1000, learning_rate=0.1):\n",
        "        \"\"\"Процесс обучения\"\"\"\n",
        "        for epoch in range(epochs):\n",
        "            output = self.forward(X)\n",
        "            self.backward(X, y, output, learning_rate)\n",
        "\n",
        "            if epoch % 100 == 0:\n",
        "                loss = np.mean(np.square(y - output))\n",
        "                print(f'Epoch {epoch}, Loss: {loss:.4f}')"
      ]
    },
    {
      "cell_type": "code",
      "source": [
        "# Пример использования на табличных данных\n",
        "X = np.array([[0, 0], [0, 1], [1, 0], [1, 1]])  # Входные данные\n",
        "y = np.array([[0], [1], [1], [0]])               # Выходные данные (XOR)\n",
        "\n",
        "# Создаем сеть с 4 нейронами в скрытом слое\n",
        "nn = NeuralNetwork(input_size=2, hidden_size=4, output_size=1)\n",
        "\n",
        "# Обучаем сеть\n",
        "nn.train(X, y, epochs=1000, learning_rate=0.1)\n",
        "\n",
        "# Тестируем\n",
        "print(\"Predictions after training:\")\n",
        "for x in X:\n",
        "    print(f\"{x} -> {nn.forward(x.reshape(1, -1))[0][0]:.4f}\")"
      ],
      "metadata": {
        "colab": {
          "base_uri": "https://localhost:8080/"
        },
        "id": "5n971oV65Ocu",
        "outputId": "df3680b4-e7da-4f15-ec24-aafdb1bfefaf"
      },
      "execution_count": 2,
      "outputs": [
        {
          "output_type": "stream",
          "name": "stdout",
          "text": [
            "Epoch 0, Loss: 0.2500\n",
            "Epoch 100, Loss: 0.2500\n",
            "Epoch 200, Loss: 0.2500\n",
            "Epoch 300, Loss: 0.2500\n",
            "Epoch 400, Loss: 0.2500\n",
            "Epoch 500, Loss: 0.2500\n",
            "Epoch 600, Loss: 0.2500\n",
            "Epoch 700, Loss: 0.2500\n",
            "Epoch 800, Loss: 0.2500\n",
            "Epoch 900, Loss: 0.2500\n",
            "Predictions after training:\n",
            "[0 0] -> 0.5000\n",
            "[0 1] -> 0.5000\n",
            "[1 0] -> 0.5000\n",
            "[1 1] -> 0.5000\n"
          ]
        }
      ]
    },
    {
      "cell_type": "markdown",
      "source": [
        "# Нейронная сеть с нуля:\n",
        "\n",
        "1. Реализован класс NeuralNetwork с возможностью задания количества нейронов в скрытом слое\n",
        "\n",
        "2. Включает все необходимые компоненты: инициализацию весов, функции активации, прямое и обратное распространение\n",
        "\n",
        "3. Поддерживается обучение на табличных данных (пример с XOR)\n",
        "\n",
        "\n",
        "\n"
      ],
      "metadata": {
        "id": "3oS_BaW_66yy"
      }
    },
    {
      "cell_type": "code",
      "source": [
        "import numpy as np\n",
        "\n",
        "class SimpleGPT:\n",
        "    \"\"\"\n",
        "    Упрощенная реализация GPT с нуля\n",
        "    Включает только базовые компоненты:\n",
        "    - Токенизацию\n",
        "    - Эмбеддинги\n",
        "    - Механизм внимания\n",
        "    - Генерацию текста\n",
        "    \"\"\"\n",
        "\n",
        "    def __init__(self, vocab_size, embedding_dim, max_seq_length):\n",
        "        \"\"\"Инициализация параметров\"\"\"\n",
        "        self.vocab_size = vocab_size\n",
        "        self.embedding_dim = embedding_dim\n",
        "        self.max_seq_length = max_seq_length\n",
        "\n",
        "        # Эмбеддинги токенов\n",
        "        self.token_emb = np.random.randn(vocab_size, embedding_dim) * 0.01\n",
        "        # Позиционные эмбеддинги\n",
        "        self.pos_emb = np.random.randn(max_seq_length, embedding_dim) * 0.01\n",
        "\n",
        "        # Параметры внимания\n",
        "        self.Wq = np.random.randn(embedding_dim, embedding_dim) * 0.01\n",
        "        self.Wk = np.random.randn(embedding_dim, embedding_dim) * 0.01\n",
        "        self.Wv = np.random.randn(embedding_dim, embedding_dim) * 0.01\n",
        "\n",
        "    def attention(self, x):\n",
        "        \"\"\"Механизм внимания (self-attention)\"\"\"\n",
        "        Q = np.dot(x, self.Wq)\n",
        "        K = np.dot(x, self.Wk)\n",
        "        V = np.dot(x, self.Wv)\n",
        "\n",
        "        scores = np.dot(Q, K.T) / np.sqrt(self.embedding_dim)\n",
        "        weights = self.softmax(scores)\n",
        "        output = np.dot(weights, V)\n",
        "        return output\n",
        "\n",
        "    def softmax(self, x):\n",
        "        \"\"\"Функция softmax\"\"\"\n",
        "        exp_x = np.exp(x - np.max(x, axis=-1, keepdims=True))\n",
        "        return exp_x / np.sum(exp_x, axis=-1, keepdims=True)\n",
        "\n",
        "    def forward(self, token_ids):\n",
        "        \"\"\"Прямой проход\"\"\"\n",
        "        # Получаем эмбеддинги токенов и позиций\n",
        "        token_embeddings = self.token_emb[token_ids]\n",
        "        pos_embeddings = self.pos_emb[:len(token_ids)]\n",
        "\n",
        "        # Суммируем эмбеддинги\n",
        "        x = token_embeddings + pos_embeddings\n",
        "\n",
        "        # Применяем механизм внимания\n",
        "        x = self.attention(x)\n",
        "\n",
        "        # Преобразуем обратно в вероятности токенов\n",
        "        logits = np.dot(x, self.token_emb.T)\n",
        "        probs = self.softmax(logits)\n",
        "        return probs\n",
        "\n",
        "    def generate(self, start_token, max_length=10):\n",
        "        \"\"\"Генерация текста\"\"\"\n",
        "        tokens = [start_token]\n",
        "\n",
        "        for _ in range(max_length):\n",
        "            probs = self.forward(np.array(tokens))\n",
        "            next_token = np.argmax(probs[-1])\n",
        "            tokens.append(next_token)\n",
        "\n",
        "        return tokens"
      ],
      "metadata": {
        "id": "4_kGBGX67D8G"
      },
      "execution_count": 3,
      "outputs": []
    },
    {
      "cell_type": "code",
      "source": [
        "# Пример использования (упрощенный)\n",
        "vocab_size = 10000  # Размер словаря\n",
        "embedding_dim = 256  # Размерность эмбеддингов\n",
        "max_seq_length = 512  # Максимальная длина последовательности\n",
        "\n",
        "# Создаем модель\n",
        "gpt = SimpleGPT(vocab_size, embedding_dim, max_seq_length)\n",
        "\n",
        "# Генерируем последовательность (в реальности нужно предварительное обучение)\n",
        "generated_tokens = gpt.generate(start_token=0, max_length=20)\n",
        "print(\"Generated tokens:\", generated_tokens)"
      ],
      "metadata": {
        "colab": {
          "base_uri": "https://localhost:8080/"
        },
        "id": "vpwu3I2-7H4R",
        "outputId": "b0e216c5-d677-46a4-eda7-c26ac8299d6b"
      },
      "execution_count": 4,
      "outputs": [
        {
          "output_type": "stream",
          "name": "stdout",
          "text": [
            "Generated tokens: [0, np.int64(6298), np.int64(9185), np.int64(1143), np.int64(2693), np.int64(6072), np.int64(6757), np.int64(5741), np.int64(2356), np.int64(5474), np.int64(2356), np.int64(5474), np.int64(5474), np.int64(5474), np.int64(5474), np.int64(9233), np.int64(5474), np.int64(5474), np.int64(733), np.int64(733), np.int64(733)]\n"
          ]
        }
      ]
    },
    {
      "cell_type": "markdown",
      "source": [
        "# Упрощенная GPT:\n",
        "\n",
        "1. Реализованы базовые компоненты GPT: эмбеддинги, механизм внимания, генерация текста\n",
        "\n",
        "2. Внимание реализовано через матрицы Q, K, V как в оригинальной статье\n",
        "\n",
        "3. Поддерживается генерация последовательностей токенов"
      ],
      "metadata": {
        "id": "mphTmtJs7LQ4"
      }
    },
    {
      "cell_type": "markdown",
      "source": [
        "Оба решения написаны \"с нуля\" без использования готовых библиотек для нейронных сетей (только numpy для вычислений). Для реального использования GPT потребуется предварительное обучение на большом корпусе текстов."
      ],
      "metadata": {
        "id": "rNAGS-8T7SSh"
      }
    }
  ]
}