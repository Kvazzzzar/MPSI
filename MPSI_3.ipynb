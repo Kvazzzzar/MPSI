{
  "nbformat": 4,
  "nbformat_minor": 0,
  "metadata": {
    "colab": {
      "provenance": [],
      "authorship_tag": "ABX9TyNdtXdzFgeGsoU2EmEb7dMg",
      "include_colab_link": true
    },
    "kernelspec": {
      "name": "python3",
      "display_name": "Python 3"
    },
    "language_info": {
      "name": "python"
    }
  },
  "cells": [
    {
      "cell_type": "markdown",
      "metadata": {
        "id": "view-in-github",
        "colab_type": "text"
      },
      "source": [
        "<a href=\"https://colab.research.google.com/github/Kvazzzzar/MPSI/blob/main/MPSI_3.ipynb\" target=\"_parent\"><img src=\"https://colab.research.google.com/assets/colab-badge.svg\" alt=\"Open In Colab\"/></a>"
      ]
    },
    {
      "cell_type": "code",
      "execution_count": 1,
      "metadata": {
        "id": "dmKnnxnd6eH3"
      },
      "outputs": [],
      "source": [
        "import numpy as np\n",
        "\n",
        "class NeuralNetwork:\n",
        "    \"\"\"\n",
        "    Простая нейронная сеть с одним скрытым слоем\n",
        "    Реализованы:\n",
        "    - Инициализация с заданным количеством нейронов в скрытом слое\n",
        "    - Прямое распространение (forward pass)\n",
        "    - Обратное распространение ошибки (backpropagation)\n",
        "    - Обучение на данных\n",
        "    \"\"\"\n",
        "\n",
        "    def __init__(self, input_size, hidden_size, output_size):\n",
        "        \"\"\"Инициализация весов и смещений\"\"\"\n",
        "        self.W1 = np.random.randn(input_size, hidden_size) * 0.01\n",
        "        self.b1 = np.zeros((1, hidden_size))\n",
        "        self.W2 = np.random.randn(hidden_size, output_size) * 0.01\n",
        "        self.b2 = np.zeros((1, output_size))\n",
        "\n",
        "    def sigmoid(self, x):\n",
        "        \"\"\"Функция активации сигмоида\"\"\"\n",
        "        return 1 / (1 + np.exp(-x))\n",
        "\n",
        "    def sigmoid_derivative(self, x):\n",
        "        \"\"\"Производная сигмоиды\"\"\"\n",
        "        return x * (1 - x)\n",
        "\n",
        "    def forward(self, X):\n",
        "        \"\"\"Прямое распространение\"\"\"\n",
        "        self.z1 = np.dot(X, self.W1) + self.b1\n",
        "        self.a1 = self.sigmoid(self.z1)\n",
        "        self.z2 = np.dot(self.a1, self.W2) + self.b2\n",
        "        self.a2 = self.sigmoid(self.z2)\n",
        "        return self.a2\n",
        "\n",
        "    def backward(self, X, y, output, learning_rate):\n",
        "        \"\"\"Обратное распространение ошибки и обновление весов\"\"\"\n",
        "        m = X.shape[0]\n",
        "\n",
        "        # Ошибка на выходном слое\n",
        "        self.a2_error = y - output\n",
        "        self.a2_delta = self.a2_error * self.sigmoid_derivative(output)\n",
        "\n",
        "        # Ошибка на скрытом слое\n",
        "        self.a1_error = self.a2_delta.dot(self.W2.T)\n",
        "        self.a1_delta = self.a1_error * self.sigmoid_derivative(self.a1)\n",
        "\n",
        "        # Обновление весов и смещений\n",
        "        self.W2 += self.a1.T.dot(self.a2_delta) * learning_rate\n",
        "        self.b2 += np.sum(self.a2_delta, axis=0, keepdims=True) * learning_rate\n",
        "        self.W1 += X.T.dot(self.a1_delta) * learning_rate\n",
        "        self.b1 += np.sum(self.a1_delta, axis=0, keepdims=True) * learning_rate\n",
        "\n",
        "    def train(self, X, y, epochs=1000, learning_rate=0.1):\n",
        "        \"\"\"Процесс обучения\"\"\"\n",
        "        for epoch in range(epochs):\n",
        "            output = self.forward(X)\n",
        "            self.backward(X, y, output, learning_rate)\n",
        "\n",
        "            if epoch % 100 == 0:\n",
        "                loss = np.mean(np.square(y - output))\n",
        "                print(f'Epoch {epoch}, Loss: {loss:.4f}')"
      ]
    },
    {
      "cell_type": "code",
      "source": [
        "# Пример использования на табличных данных\n",
        "X = np.array([[0, 0], [0, 1], [1, 0], [1, 1]])  # Входные данные\n",
        "y = np.array([[0], [1], [1], [0]])               # Выходные данные (XOR)\n",
        "\n",
        "# Создаем сеть с 4 нейронами в скрытом слое\n",
        "nn = NeuralNetwork(input_size=2, hidden_size=4, output_size=1)\n",
        "\n",
        "# Обучаем сеть\n",
        "nn.train(X, y, epochs=1000, learning_rate=0.1)\n",
        "\n",
        "# Тестируем\n",
        "print(\"Predictions after training:\")\n",
        "for x in X:\n",
        "    print(f\"{x} -> {nn.forward(x.reshape(1, -1))[0][0]:.4f}\")"
      ],
      "metadata": {
        "colab": {
          "base_uri": "https://localhost:8080/"
        },
        "id": "5n971oV65Ocu",
        "outputId": "df3680b4-e7da-4f15-ec24-aafdb1bfefaf"
      },
      "execution_count": 2,
      "outputs": [
        {
          "output_type": "stream",
          "name": "stdout",
          "text": [
            "Epoch 0, Loss: 0.2500\n",
            "Epoch 100, Loss: 0.2500\n",
            "Epoch 200, Loss: 0.2500\n",
            "Epoch 300, Loss: 0.2500\n",
            "Epoch 400, Loss: 0.2500\n",
            "Epoch 500, Loss: 0.2500\n",
            "Epoch 600, Loss: 0.2500\n",
            "Epoch 700, Loss: 0.2500\n",
            "Epoch 800, Loss: 0.2500\n",
            "Epoch 900, Loss: 0.2500\n",
            "Predictions after training:\n",
            "[0 0] -> 0.5000\n",
            "[0 1] -> 0.5000\n",
            "[1 0] -> 0.5000\n",
            "[1 1] -> 0.5000\n"
          ]
        }
      ]
    }
  ]
}